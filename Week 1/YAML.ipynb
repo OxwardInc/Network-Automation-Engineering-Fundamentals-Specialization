{
 "cells": [
  {
   "cell_type": "code",
   "execution_count": 1,
   "id": "7690ee5a-8a33-4d18-b298-c726fb5597d9",
   "metadata": {},
   "outputs": [],
   "source": [
    "import yaml"
   ]
  },
  {
   "cell_type": "code",
   "execution_count": 4,
   "id": "accc2e08-ca0b-44ab-b6b8-33b13e5e6ebf",
   "metadata": {},
   "outputs": [],
   "source": [
    "yaml_data = open('inventory.yml', 'r')"
   ]
  },
  {
   "cell_type": "code",
   "execution_count": 5,
   "id": "2250a57c-9c3b-46cd-814c-261bc924cb61",
   "metadata": {},
   "outputs": [],
   "source": [
    "data = yaml.safe_load(yaml_data)"
   ]
  },
  {
   "cell_type": "code",
   "execution_count": 6,
   "id": "dda8ef5a-33ab-4885-a3b7-f30f52aa2d76",
   "metadata": {},
   "outputs": [
    {
     "data": {
      "text/plain": [
       "dict"
      ]
     },
     "execution_count": 6,
     "metadata": {},
     "output_type": "execute_result"
    }
   ],
   "source": [
    "type(data)"
   ]
  },
  {
   "cell_type": "code",
   "execution_count": 7,
   "id": "01740509-8af9-4d78-be51-31faada4d238",
   "metadata": {},
   "outputs": [
    {
     "name": "stdout",
     "output_type": "stream",
     "text": [
      "{'inventory': {'device': [{'name': 'csr1kv1', 'version': 16.09, 'vendor': 'cisco', 'uptime': '2 days', 'serial': 'XB96871', 'snmp': [{'name': 'public', 'permission': 'ro'}, {'name': 'private', 'permission': 'rw'}]}]}}\n"
     ]
    }
   ],
   "source": [
    "print(data)"
   ]
  },
  {
   "cell_type": "code",
   "execution_count": 10,
   "id": "83f1a7b4-1682-4d3c-8b75-c2210f7414e0",
   "metadata": {},
   "outputs": [
    {
     "ename": "TypeError",
     "evalue": "list indices must be integers or slices, not str",
     "output_type": "error",
     "traceback": [
      "\u001b[1;31m---------------------------------------------------------------------------\u001b[0m",
      "\u001b[1;31mTypeError\u001b[0m                                 Traceback (most recent call last)",
      "Cell \u001b[1;32mIn[10], line 1\u001b[0m\n\u001b[1;32m----> 1\u001b[0m \u001b[38;5;28mprint\u001b[39m(\u001b[43mdata\u001b[49m\u001b[43m[\u001b[49m\u001b[38;5;124;43m'\u001b[39;49m\u001b[38;5;124;43minventory\u001b[39;49m\u001b[38;5;124;43m'\u001b[39;49m\u001b[43m]\u001b[49m\u001b[43m[\u001b[49m\u001b[38;5;124;43m'\u001b[39;49m\u001b[38;5;124;43mdevice\u001b[39;49m\u001b[38;5;124;43m'\u001b[39;49m\u001b[43m]\u001b[49m\u001b[43m[\u001b[49m\u001b[38;5;124;43m'\u001b[39;49m\u001b[38;5;124;43muptime\u001b[39;49m\u001b[38;5;124;43m'\u001b[39;49m\u001b[43m]\u001b[49m)\n",
      "\u001b[1;31mTypeError\u001b[0m: list indices must be integers or slices, not str"
     ]
    }
   ],
   "source": [
    "print(data['inventory']['device']['uptime'])"
   ]
  },
  {
   "cell_type": "code",
   "execution_count": 11,
   "id": "9dc63e36-0a3b-4c41-a020-0447e378c533",
   "metadata": {},
   "outputs": [],
   "source": [
    "import json"
   ]
  },
  {
   "cell_type": "code",
   "execution_count": 12,
   "id": "5603cfaf-cdb8-47f5-b37f-3915e8153e58",
   "metadata": {},
   "outputs": [
    {
     "name": "stdout",
     "output_type": "stream",
     "text": [
      "{\n",
      "    \"inventory\": {\n",
      "        \"device\": [\n",
      "            {\n",
      "                \"name\": \"csr1kv1\",\n",
      "                \"version\": 16.09,\n",
      "                \"vendor\": \"cisco\",\n",
      "                \"uptime\": \"2 days\",\n",
      "                \"serial\": \"XB96871\",\n",
      "                \"snmp\": [\n",
      "                    {\n",
      "                        \"name\": \"public\",\n",
      "                        \"permission\": \"ro\"\n",
      "                    },\n",
      "                    {\n",
      "                        \"name\": \"private\",\n",
      "                        \"permission\": \"rw\"\n",
      "                    }\n",
      "                ]\n",
      "            }\n",
      "        ]\n",
      "    }\n",
      "}\n"
     ]
    }
   ],
   "source": [
    "print(json.dumps(data, indent=4))"
   ]
  },
  {
   "cell_type": "code",
   "execution_count": null,
   "id": "412597b8-c02c-4022-9a10-02abf61ae54b",
   "metadata": {},
   "outputs": [],
   "source": []
  }
 ],
 "metadata": {
  "kernelspec": {
   "display_name": "Python 3 (ipykernel)",
   "language": "python",
   "name": "python3"
  },
  "language_info": {
   "codemirror_mode": {
    "name": "ipython",
    "version": 3
   },
   "file_extension": ".py",
   "mimetype": "text/x-python",
   "name": "python",
   "nbconvert_exporter": "python",
   "pygments_lexer": "ipython3",
   "version": "3.11.5"
  }
 },
 "nbformat": 4,
 "nbformat_minor": 5
}
