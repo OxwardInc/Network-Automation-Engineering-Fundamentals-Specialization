{
 "cells": [
  {
   "cell_type": "code",
   "execution_count": 1,
   "id": "ba8ca6cd-d282-42e5-9577-15dbaf809f1b",
   "metadata": {},
   "outputs": [],
   "source": [
    "import xml.etree.ElementTree as ET"
   ]
  },
  {
   "cell_type": "code",
   "execution_count": 2,
   "id": "b36ed610-768b-4259-9196-f2677f73d9cc",
   "metadata": {},
   "outputs": [],
   "source": [
    "tree = ET.parse('inventory.xml')"
   ]
  },
  {
   "cell_type": "code",
   "execution_count": 3,
   "id": "0e290d6e-e560-4d3a-8895-f3f6186d764d",
   "metadata": {},
   "outputs": [],
   "source": [
    "root_data = tree.getroot()"
   ]
  },
  {
   "cell_type": "code",
   "execution_count": 4,
   "id": "b5edacc7-4d9f-4939-ab5e-7cf39ad305b4",
   "metadata": {},
   "outputs": [
    {
     "data": {
      "text/plain": [
       "'{https://www.cisco.com/ns/routers}inventory'"
      ]
     },
     "execution_count": 4,
     "metadata": {},
     "output_type": "execute_result"
    }
   ],
   "source": [
    "root_data.tag"
   ]
  },
  {
   "cell_type": "code",
   "execution_count": 5,
   "id": "11aef691-519a-4e64-92fe-80800d1ebca2",
   "metadata": {},
   "outputs": [
    {
     "name": "stdout",
     "output_type": "stream",
     "text": [
      "{https://www.cisco.com/ns/routers/prod}device {'name': 'csr1kv1'}\n",
      "{https://www.cisco.com/ns/routers/prod}device {'name': 'csr1kv2'}\n",
      "{https://www.cisco.com/ns/routers/dev}device {'name': 'csr1kv3'}\n"
     ]
    }
   ],
   "source": [
    "for child in root_data:\n",
    "    print(child.tag, child.attrib)"
   ]
  },
  {
   "cell_type": "code",
   "execution_count": 6,
   "id": "b6a19730-c262-4323-aae4-7114ea3668c9",
   "metadata": {},
   "outputs": [
    {
     "name": "stdout",
     "output_type": "stream",
     "text": [
      "XB968781\n",
      "XB587381\n"
     ]
    }
   ],
   "source": [
    "for serial in root_data.iter('{https://www.cisco.com/ns/routers/prod}serial'):\n",
    "    print(serial.text)"
   ]
  },
  {
   "cell_type": "code",
   "execution_count": 15,
   "id": "92c924e6-3024-4a07-918d-efcb6deb1287",
   "metadata": {},
   "outputs": [
    {
     "name": "stdout",
     "output_type": "stream",
     "text": [
      "csr1kv1 XB968781\n",
      "csr1kv2 XB587381\n"
     ]
    }
   ],
   "source": [
    "for device in root_data.findall('{https://www.cisco.com/ns/routers/prod}device'):\n",
    "    name= device.attrib['name']\n",
    "    serial= device.find('{https://www.cisco.com/ns/routers/prod}serial').text\n",
    "    \n",
    "    print(name, serial)"
   ]
  },
  {
   "cell_type": "code",
   "execution_count": 19,
   "id": "c3da8574-ab7f-4d5d-ad15-3a5a7aeb424a",
   "metadata": {},
   "outputs": [
    {
     "name": "stdout",
     "output_type": "stream",
     "text": [
      "{'name': 'public', 'permission': 'ro'}\n",
      "{'name': 'private', 'permission': 'rw'}\n"
     ]
    }
   ],
   "source": [
    "for snmp in root_data.iter('{https://www.cisco.com/ns/routers/dev}snmp'):\n",
    "    print(snmp.attrib)"
   ]
  },
  {
   "cell_type": "code",
   "execution_count": 20,
   "id": "8f50fd49-24b3-48f3-b0d1-5f4083ea8ed4",
   "metadata": {},
   "outputs": [],
   "source": [
    "import xmltodict\n",
    "import json"
   ]
  },
  {
   "cell_type": "code",
   "execution_count": 21,
   "id": "405fd114-e480-4e19-a150-503e3197decd",
   "metadata": {},
   "outputs": [],
   "source": [
    "with open('inventory3.xml') as xml_file:\n",
    "    xml = xmltodict.parse(xml_file.read())"
   ]
  },
  {
   "cell_type": "code",
   "execution_count": 22,
   "id": "33db8993-e6c1-47fb-bc50-efd8e89065ae",
   "metadata": {},
   "outputs": [
    {
     "name": "stdout",
     "output_type": "stream",
     "text": [
      "{\n",
      "    \"data\": {\n",
      "        \"inventory\": [\n",
      "            {\n",
      "                \"@xmlns\": \"https://www.cisco.com/ns/routers\",\n",
      "                \"@xmlns:prod\": \"https://www.cisco.com/ns/routers/prod\",\n",
      "                \"prod:device\": {\n",
      "                    \"@name\": \"csr1kv1\",\n",
      "                    \"prod:osversion\": \"16.09\",\n",
      "                    \"prod:uptime\": \"2 days\",\n",
      "                    \"prod:vendor\": \"cisco\",\n",
      "                    \"prod:serial\": \"XB968781\",\n",
      "                    \"snmp\": [\n",
      "                        {\n",
      "                            \"@name\": \"public\",\n",
      "                            \"@permission\": \"ro\"\n",
      "                        },\n",
      "                        {\n",
      "                            \"@name\": \"private\",\n",
      "                            \"@permission\": \"rw\"\n",
      "                        }\n",
      "                    ]\n",
      "                }\n",
      "            },\n",
      "            {\n",
      "                \"@xmlns\": \"https://www.dell.com/ns/servers\",\n",
      "                \"@xmlns:prod\": \"https://www.dell.com/ns/servers/prod\",\n",
      "                \"prod:server\": {\n",
      "                    \"@name\": \"Compute_SRV\",\n",
      "                    \"prod:osversion\": \"Ubuntu\",\n",
      "                    \"prod:uptime\": \"Dell\",\n",
      "                    \"prod:vendor\": \"XP720\",\n",
      "                    \"prod:serial\": [\n",
      "                        \"Enterprise\",\n",
      "                        \"183AF789\"\n",
      "                    ],\n",
      "                    \"prod:interfaces\": \"4\",\n",
      "                    \"snmp\": [\n",
      "                        {\n",
      "                            \"@name\": \"public\",\n",
      "                            \"@permission\": \"ro\"\n",
      "                        },\n",
      "                        {\n",
      "                            \"@name\": \"private\",\n",
      "                            \"@permission\": \"rw\"\n",
      "                        }\n",
      "                    ]\n",
      "                }\n",
      "            }\n",
      "        ]\n",
      "    }\n",
      "}\n"
     ]
    }
   ],
   "source": [
    "print(json.dumps(xml, indent = 4))"
   ]
  },
  {
   "cell_type": "code",
   "execution_count": 23,
   "id": "672c4977-7986-4847-ab43-a0280fffa9f6",
   "metadata": {},
   "outputs": [
    {
     "name": "stdout",
     "output_type": "stream",
     "text": [
      "{\n",
      "    \"data\": {\n",
      "        \"inventory\": [\n",
      "            {\n",
      "                \"xmlns\": \"https://www.cisco.com/ns/routers\",\n",
      "                \"xmlns:prod\": \"https://www.cisco.com/ns/routers/prod\",\n",
      "                \"prod:device\": {\n",
      "                    \"name\": \"csr1kv1\",\n",
      "                    \"prod:osversion\": \"16.09\",\n",
      "                    \"prod:uptime\": \"2 days\",\n",
      "                    \"prod:vendor\": \"cisco\",\n",
      "                    \"prod:serial\": \"XB968781\",\n",
      "                    \"snmp\": [\n",
      "                        {\n",
      "                            \"name\": \"public\",\n",
      "                            \"permission\": \"ro\"\n",
      "                        },\n",
      "                        {\n",
      "                            \"name\": \"private\",\n",
      "                            \"permission\": \"rw\"\n",
      "                        }\n",
      "                    ]\n",
      "                }\n",
      "            },\n",
      "            {\n",
      "                \"xmlns\": \"https://www.dell.com/ns/servers\",\n",
      "                \"xmlns:prod\": \"https://www.dell.com/ns/servers/prod\",\n",
      "                \"prod:server\": {\n",
      "                    \"name\": \"Compute_SRV\",\n",
      "                    \"prod:osversion\": \"Ubuntu\",\n",
      "                    \"prod:uptime\": \"Dell\",\n",
      "                    \"prod:vendor\": \"XP720\",\n",
      "                    \"prod:serial\": [\n",
      "                        \"Enterprise\",\n",
      "                        \"183AF789\"\n",
      "                    ],\n",
      "                    \"prod:interfaces\": \"4\",\n",
      "                    \"snmp\": [\n",
      "                        {\n",
      "                            \"name\": \"public\",\n",
      "                            \"permission\": \"ro\"\n",
      "                        },\n",
      "                        {\n",
      "                            \"name\": \"private\",\n",
      "                            \"permission\": \"rw\"\n",
      "                        }\n",
      "                    ]\n",
      "                }\n",
      "            }\n",
      "        ]\n",
      "    }\n",
      "}\n"
     ]
    }
   ],
   "source": [
    "print(json.dumps(xml, indent = 4).replace('@', ''))"
   ]
  },
  {
   "cell_type": "code",
   "execution_count": 24,
   "id": "8438adfa-caa3-4786-84a1-5d19527f7822",
   "metadata": {},
   "outputs": [],
   "source": [
    "with open('inventory3.xml') as xml_file:\n",
    "    xml = xmltodict.parse(xml_file.read(), attr_prefix = '')"
   ]
  },
  {
   "cell_type": "code",
   "execution_count": 25,
   "id": "4e8a8e04-148a-46bc-a0ec-7f803a8866b1",
   "metadata": {},
   "outputs": [
    {
     "name": "stdout",
     "output_type": "stream",
     "text": [
      "{\n",
      "    \"data\": {\n",
      "        \"inventory\": [\n",
      "            {\n",
      "                \"xmlns\": \"https://www.cisco.com/ns/routers\",\n",
      "                \"xmlns:prod\": \"https://www.cisco.com/ns/routers/prod\",\n",
      "                \"prod:device\": {\n",
      "                    \"name\": \"csr1kv1\",\n",
      "                    \"prod:osversion\": \"16.09\",\n",
      "                    \"prod:uptime\": \"2 days\",\n",
      "                    \"prod:vendor\": \"cisco\",\n",
      "                    \"prod:serial\": \"XB968781\",\n",
      "                    \"snmp\": [\n",
      "                        {\n",
      "                            \"name\": \"public\",\n",
      "                            \"permission\": \"ro\"\n",
      "                        },\n",
      "                        {\n",
      "                            \"name\": \"private\",\n",
      "                            \"permission\": \"rw\"\n",
      "                        }\n",
      "                    ]\n",
      "                }\n",
      "            },\n",
      "            {\n",
      "                \"xmlns\": \"https://www.dell.com/ns/servers\",\n",
      "                \"xmlns:prod\": \"https://www.dell.com/ns/servers/prod\",\n",
      "                \"prod:server\": {\n",
      "                    \"name\": \"Compute_SRV\",\n",
      "                    \"prod:osversion\": \"Ubuntu\",\n",
      "                    \"prod:uptime\": \"Dell\",\n",
      "                    \"prod:vendor\": \"XP720\",\n",
      "                    \"prod:serial\": [\n",
      "                        \"Enterprise\",\n",
      "                        \"183AF789\"\n",
      "                    ],\n",
      "                    \"prod:interfaces\": \"4\",\n",
      "                    \"snmp\": [\n",
      "                        {\n",
      "                            \"name\": \"public\",\n",
      "                            \"permission\": \"ro\"\n",
      "                        },\n",
      "                        {\n",
      "                            \"name\": \"private\",\n",
      "                            \"permission\": \"rw\"\n",
      "                        }\n",
      "                    ]\n",
      "                }\n",
      "            }\n",
      "        ]\n",
      "    }\n",
      "}\n"
     ]
    }
   ],
   "source": [
    "print(json.dumps(xml, indent = 4))"
   ]
  },
  {
   "cell_type": "code",
   "execution_count": null,
   "id": "ec514760-d7a6-4ee8-9bc4-15393af493d6",
   "metadata": {},
   "outputs": [],
   "source": []
  },
  {
   "cell_type": "code",
   "execution_count": null,
   "id": "8bc891ed-c039-4d50-b609-dfab921952db",
   "metadata": {},
   "outputs": [],
   "source": []
  }
 ],
 "metadata": {
  "kernelspec": {
   "display_name": "Python 3 (ipykernel)",
   "language": "python",
   "name": "python3"
  },
  "language_info": {
   "codemirror_mode": {
    "name": "ipython",
    "version": 3
   },
   "file_extension": ".py",
   "mimetype": "text/x-python",
   "name": "python",
   "nbconvert_exporter": "python",
   "pygments_lexer": "ipython3",
   "version": "3.11.5"
  }
 },
 "nbformat": 4,
 "nbformat_minor": 5
}
