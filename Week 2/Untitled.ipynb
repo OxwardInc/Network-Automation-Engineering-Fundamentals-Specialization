{
 "cells": [
  {
   "cell_type": "code",
   "execution_count": 1,
   "id": "ffde699b-0251-48b4-b920-ffe6babd3635",
   "metadata": {},
   "outputs": [],
   "source": [
    "def checkStatus(url):\n",
    "    try:\n",
    "        status = request.get(url + 'api/status')\n",
    "        if status.status_code != 200:\n",
    "            raise Exception(\"Unexpected status code: \" + status.status_code)\n",
    "\n",
    "    except Exception as e:\n",
    "        print(\"API endpoint encountered as error: \" + e)"
   ]
  },
  {
   "cell_type": "code",
   "execution_count": 2,
   "id": "20647113-b85d-436a-a17e-94676d8c9a15",
   "metadata": {},
   "outputs": [],
   "source": [
    "def getUsers(url):\n",
    "    max_retries = 10\n",
    "    timeout = 30\n",
    "\n",
    "    for retry_content in range(max_retries):\n",
    "        try:\n",
    "            api_users = requests.get(url, + \"/api/users\")\n",
    "        except Exception as e:\n",
    "            print(\"Error encountered while reading users. Retrying...\")\n",
    "\n",
    "        if api_users.status_code == 200:\n",
    "            return api_users\n",
    "        else:\n",
    "            time.sleep(timeout)\n",
    "\n",
    "    raise Exception(\"Retry limit reached.\")"
   ]
  },
  {
   "cell_type": "code",
   "execution_count": null,
   "id": "f9ffd4dc-3eac-41bd-af7b-075cb41ebdb5",
   "metadata": {},
   "outputs": [],
   "source": [
    "No 3\n",
    "No 4 cURL"
   ]
  }
 ],
 "metadata": {
  "kernelspec": {
   "display_name": "Python 3 (ipykernel)",
   "language": "python",
   "name": "python3"
  },
  "language_info": {
   "codemirror_mode": {
    "name": "ipython",
    "version": 3
   },
   "file_extension": ".py",
   "mimetype": "text/x-python",
   "name": "python",
   "nbconvert_exporter": "python",
   "pygments_lexer": "ipython3",
   "version": "3.11.5"
  }
 },
 "nbformat": 4,
 "nbformat_minor": 5
}
