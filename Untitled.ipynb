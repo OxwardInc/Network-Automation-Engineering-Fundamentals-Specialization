{
 "cells": [
  {
   "cell_type": "code",
   "execution_count": 1,
   "id": "ddc862fe-1664-4f88-b16e-4271ce7d0dfa",
   "metadata": {},
   "outputs": [],
   "source": [
    "from random import randint\n",
    "class Account:\n",
    "    def __init__(self, name, dob, phone, address, email, bvn, deposit):\n",
    "        self.name = name\n",
    "        self.date_of_birth = dob\n",
    "        self.phone = phone\n",
    "        self.adress = address\n",
    "        self.email = email\n",
    "        self.bvn = bvn\n",
    "        self.init_deposit = deposit\n",
    "        self.balance = deposit\n",
    "        self.acct_type = 'Savings'\n",
    "        self.acct_number = '05'\n",
    "        for i in range(8):\n",
    "            digit = randint(0, 9)\n",
    "            self.acct_number += str(digit)\n",
    "\n",
    "    def make_withdrawal(self, amount):\n",
    "        self.balance = self.balance - amount\n",
    "        # There should be at least 2k as account balance i the account(ASSIGNMENT)\n",
    "\n",
    "        # Create a method to make deposit\n",
    "        # Create a method to change account email\n",
    "\n",
    "    def upgrade_account_type(self, type_):\n",
    "        if type_ not in ['Current', 'Credit']:\n",
    "            return \"Upgrade failed!\"\n",
    "        self.acct_type = type_"
   ]
  },
  {
   "cell_type": "code",
   "execution_count": 2,
   "id": "35c181b0-455b-4e1e-b2d8-0bbe9cc831cb",
   "metadata": {},
   "outputs": [],
   "source": [
    "prosper = Account(\"Prosper Ezkiel\", \n",
    "                  \"21/11/1989\", \"0809934567\", \"Choba\",\n",
    "                 \"prosper@gmail.com\", \"1234567890\", 3E6)\n",
    "\n",
    "charles = Account(\"Investor Charles\", \n",
    "                  \"17/01/2002\", \"0801234567\", \"Choba\",\n",
    "                 \"charles@gmail.com\", \"1234567890\", 10E6)"
   ]
  },
  {
   "cell_type": "code",
   "execution_count": 3,
   "id": "f305e662-0480-46c4-bdc5-5bf5c6e087ab",
   "metadata": {},
   "outputs": [],
   "source": [
    "facts = {\n",
    "    \"inventory\": { \n",
    "        \"device\": [ \n",
    "            { \n",
    "                \"name\": \"csr1kv1\", \n",
    "                \"version\": \"16.09\", \n",
    "                \"vendor\": \"cisco\", \n",
    "                \"uptime\": \"2 days\", \n",
    "                \"serial\": \"XB96861\", \n",
    "                \"snmp\": [ \n",
    "                    {\"name\": \"public\", \"permission\": \"ro\"}, \n",
    "                    {\"name\": \"private\", \"permission\": \"rw\"} \n",
    "                ]\n",
    "            } \n",
    "        ] \n",
    "    } \n",
    "}"
   ]
  },
  {
   "cell_type": "code",
   "execution_count": 4,
   "id": "456a507b-d700-462b-9340-dc8b639b379b",
   "metadata": {},
   "outputs": [
    {
     "data": {
      "text/plain": [
       "dict"
      ]
     },
     "execution_count": 4,
     "metadata": {},
     "output_type": "execute_result"
    }
   ],
   "source": [
    "type(facts)"
   ]
  },
  {
   "cell_type": "code",
   "execution_count": 5,
   "id": "012e5535-9c48-4870-8192-57605587d03a",
   "metadata": {},
   "outputs": [
    {
     "data": {
      "text/plain": [
       "'2 days'"
      ]
     },
     "execution_count": 5,
     "metadata": {},
     "output_type": "execute_result"
    }
   ],
   "source": [
    "facts['inventory']['device'][0]['uptime']"
   ]
  },
  {
   "cell_type": "code",
   "execution_count": 6,
   "id": "a69d089b-6e62-4c40-be30-be2788253df3",
   "metadata": {},
   "outputs": [],
   "source": [
    "import json"
   ]
  },
  {
   "cell_type": "code",
   "execution_count": 7,
   "id": "3852288f-a7b8-4078-9481-c240ce033c06",
   "metadata": {},
   "outputs": [
    {
     "data": {
      "text/plain": [
       "'{\"inventory\": {\"device\": [{\"name\": \"csr1kv1\", \"version\": \"16.09\", \"vendor\": \"cisco\", \"uptime\": \"2 days\", \"serial\": \"XB96861\", \"snmp\": [{\"name\": \"public\", \"permission\": \"ro\"}, {\"name\": \"private\", \"permission\": \"rw\"}]}]}}'"
      ]
     },
     "execution_count": 7,
     "metadata": {},
     "output_type": "execute_result"
    }
   ],
   "source": [
    "json.dumps(facts)"
   ]
  },
  {
   "cell_type": "code",
   "execution_count": 8,
   "id": "356db121-aeb0-426a-b2c4-dbe25a3ce484",
   "metadata": {},
   "outputs": [],
   "source": [
    "facts_str = json.dumps(facts)"
   ]
  },
  {
   "cell_type": "code",
   "execution_count": 9,
   "id": "c5fea3ff-ba75-412d-994e-bf1111a0aa62",
   "metadata": {},
   "outputs": [
    {
     "data": {
      "text/plain": [
       "str"
      ]
     },
     "execution_count": 9,
     "metadata": {},
     "output_type": "execute_result"
    }
   ],
   "source": [
    "type(facts_str)"
   ]
  },
  {
   "cell_type": "code",
   "execution_count": 10,
   "id": "03d8b6a0-8872-4717-8480-af1d07f7be7d",
   "metadata": {},
   "outputs": [
    {
     "name": "stdout",
     "output_type": "stream",
     "text": [
      "{\n",
      "    \"inventory\": {\n",
      "        \"device\": [\n",
      "            {\n",
      "                \"name\": \"csr1kv1\",\n",
      "                \"version\": \"16.09\",\n",
      "                \"vendor\": \"cisco\",\n",
      "                \"uptime\": \"2 days\",\n",
      "                \"serial\": \"XB96861\",\n",
      "                \"snmp\": [\n",
      "                    {\n",
      "                        \"name\": \"public\",\n",
      "                        \"permission\": \"ro\"\n",
      "                    },\n",
      "                    {\n",
      "                        \"name\": \"private\",\n",
      "                        \"permission\": \"rw\"\n",
      "                    }\n",
      "                ]\n",
      "            }\n",
      "        ]\n",
      "    }\n",
      "}\n"
     ]
    }
   ],
   "source": [
    "print(json.dumps(facts, indent= 4))"
   ]
  },
  {
   "cell_type": "code",
   "execution_count": 11,
   "id": "3b86d391-5401-479e-becb-6d85ac3a6677",
   "metadata": {},
   "outputs": [],
   "source": [
    "vlan_ids = '{\"name\":\"HR\", \"id\": 100}'\n",
    "\n",
    "interfaces = '[\"GigabitEthernet1\", \"GigabitEthernet2\", \"GigabitEthernet3\", \"GigabitEthernet4\"]'"
   ]
  },
  {
   "cell_type": "code",
   "execution_count": 12,
   "id": "656a850a-32db-43b6-acb3-5cc9b585145e",
   "metadata": {},
   "outputs": [
    {
     "data": {
      "text/plain": [
       "str"
      ]
     },
     "execution_count": 12,
     "metadata": {},
     "output_type": "execute_result"
    }
   ],
   "source": [
    "type(vlan_ids)"
   ]
  },
  {
   "cell_type": "code",
   "execution_count": 13,
   "id": "2ec18a85-3140-4860-906e-8bf1380abc56",
   "metadata": {},
   "outputs": [
    {
     "data": {
      "text/plain": [
       "str"
      ]
     },
     "execution_count": 13,
     "metadata": {},
     "output_type": "execute_result"
    }
   ],
   "source": [
    "type(interfaces)"
   ]
  },
  {
   "cell_type": "code",
   "execution_count": 14,
   "id": "a82e93ff-9a20-479b-878d-f57a0361c1ea",
   "metadata": {},
   "outputs": [
    {
     "ename": "TypeError",
     "evalue": "string indices must be integers, not 'str'",
     "output_type": "error",
     "traceback": [
      "\u001b[1;31m---------------------------------------------------------------------------\u001b[0m",
      "\u001b[1;31mTypeError\u001b[0m                                 Traceback (most recent call last)",
      "Cell \u001b[1;32mIn[14], line 1\u001b[0m\n\u001b[1;32m----> 1\u001b[0m \u001b[43mvlan_ids\u001b[49m\u001b[43m[\u001b[49m\u001b[38;5;124;43m'\u001b[39;49m\u001b[38;5;124;43mid\u001b[39;49m\u001b[38;5;124;43m'\u001b[39;49m\u001b[43m]\u001b[49m\n",
      "\u001b[1;31mTypeError\u001b[0m: string indices must be integers, not 'str'"
     ]
    }
   ],
   "source": [
    "vlan_ids['id']"
   ]
  },
  {
   "cell_type": "code",
   "execution_count": 15,
   "id": "d8198dc0-992b-43f3-b0e2-a9739fa0b796",
   "metadata": {},
   "outputs": [
    {
     "data": {
      "text/plain": [
       "100"
      ]
     },
     "execution_count": 15,
     "metadata": {},
     "output_type": "execute_result"
    }
   ],
   "source": [
    " vlan_nums = json.loads(vlan_ids)\n",
    "interface_names = json.loads(interfaces)\n",
    "vlan_nums['id']"
   ]
  },
  {
   "cell_type": "code",
   "execution_count": 16,
   "id": "6effc5b3-725b-4f20-b0ea-0d35fe06f336",
   "metadata": {},
   "outputs": [
    {
     "data": {
      "text/plain": [
       "'GigabitEthernet1'"
      ]
     },
     "execution_count": 16,
     "metadata": {},
     "output_type": "execute_result"
    }
   ],
   "source": [
    "interface_names[0]"
   ]
  },
  {
   "cell_type": "code",
   "execution_count": 17,
   "id": "51ed9b94-0b9f-4c11-bcc8-ce51d73237c8",
   "metadata": {},
   "outputs": [],
   "source": [
    "import json\n",
    "\n",
    "class Delivery:\n",
    "    def __init__(self, id, sender, recipient, items):\n",
    "        self.id = id\n",
    "        self.sender = sender\n",
    "        self.recipient = recipient\n",
    "        self.items = items\n",
    "\n",
    "# Create instances of Delivery\n",
    "delivery1 = Delivery(1, \"John\", \"Alice\", [\"package1\", \"package2\"])\n",
    "delivery2 = Delivery(2, \"Bob\", \"Eve\", [\"package3\"])\n",
    "\n",
    "# Serialize to JSON\n",
    "delivery1_json = json.dumps(delivery1.__dict__)\n",
    "delivery2_json = json.dumps(delivery2.__dict__)\n",
    "\n",
    "# Now you can transmit these JSON strings to the frontend or API clients\n"
   ]
  },
  {
   "cell_type": "code",
   "execution_count": 18,
   "id": "2be146e1-dde7-4f29-bcba-13c0daa5830e",
   "metadata": {},
   "outputs": [
    {
     "ename": "TypeError",
     "evalue": "Object of type type is not JSON serializable",
     "output_type": "error",
     "traceback": [
      "\u001b[1;31m---------------------------------------------------------------------------\u001b[0m",
      "\u001b[1;31mTypeError\u001b[0m                                 Traceback (most recent call last)",
      "Cell \u001b[1;32mIn[18], line 1\u001b[0m\n\u001b[1;32m----> 1\u001b[0m \u001b[43mjson\u001b[49m\u001b[38;5;241;43m.\u001b[39;49m\u001b[43mdumps\u001b[49m\u001b[43m(\u001b[49m\u001b[43mDelivery\u001b[49m\u001b[43m)\u001b[49m\n",
      "File \u001b[1;32m~\\AppData\\Local\\Programs\\Python\\Python311\\Lib\\json\\__init__.py:231\u001b[0m, in \u001b[0;36mdumps\u001b[1;34m(obj, skipkeys, ensure_ascii, check_circular, allow_nan, cls, indent, separators, default, sort_keys, **kw)\u001b[0m\n\u001b[0;32m    226\u001b[0m \u001b[38;5;66;03m# cached encoder\u001b[39;00m\n\u001b[0;32m    227\u001b[0m \u001b[38;5;28;01mif\u001b[39;00m (\u001b[38;5;129;01mnot\u001b[39;00m skipkeys \u001b[38;5;129;01mand\u001b[39;00m ensure_ascii \u001b[38;5;129;01mand\u001b[39;00m\n\u001b[0;32m    228\u001b[0m     check_circular \u001b[38;5;129;01mand\u001b[39;00m allow_nan \u001b[38;5;129;01mand\u001b[39;00m\n\u001b[0;32m    229\u001b[0m     \u001b[38;5;28mcls\u001b[39m \u001b[38;5;129;01mis\u001b[39;00m \u001b[38;5;28;01mNone\u001b[39;00m \u001b[38;5;129;01mand\u001b[39;00m indent \u001b[38;5;129;01mis\u001b[39;00m \u001b[38;5;28;01mNone\u001b[39;00m \u001b[38;5;129;01mand\u001b[39;00m separators \u001b[38;5;129;01mis\u001b[39;00m \u001b[38;5;28;01mNone\u001b[39;00m \u001b[38;5;129;01mand\u001b[39;00m\n\u001b[0;32m    230\u001b[0m     default \u001b[38;5;129;01mis\u001b[39;00m \u001b[38;5;28;01mNone\u001b[39;00m \u001b[38;5;129;01mand\u001b[39;00m \u001b[38;5;129;01mnot\u001b[39;00m sort_keys \u001b[38;5;129;01mand\u001b[39;00m \u001b[38;5;129;01mnot\u001b[39;00m kw):\n\u001b[1;32m--> 231\u001b[0m     \u001b[38;5;28;01mreturn\u001b[39;00m \u001b[43m_default_encoder\u001b[49m\u001b[38;5;241;43m.\u001b[39;49m\u001b[43mencode\u001b[49m\u001b[43m(\u001b[49m\u001b[43mobj\u001b[49m\u001b[43m)\u001b[49m\n\u001b[0;32m    232\u001b[0m \u001b[38;5;28;01mif\u001b[39;00m \u001b[38;5;28mcls\u001b[39m \u001b[38;5;129;01mis\u001b[39;00m \u001b[38;5;28;01mNone\u001b[39;00m:\n\u001b[0;32m    233\u001b[0m     \u001b[38;5;28mcls\u001b[39m \u001b[38;5;241m=\u001b[39m JSONEncoder\n",
      "File \u001b[1;32m~\\AppData\\Local\\Programs\\Python\\Python311\\Lib\\json\\encoder.py:200\u001b[0m, in \u001b[0;36mJSONEncoder.encode\u001b[1;34m(self, o)\u001b[0m\n\u001b[0;32m    196\u001b[0m         \u001b[38;5;28;01mreturn\u001b[39;00m encode_basestring(o)\n\u001b[0;32m    197\u001b[0m \u001b[38;5;66;03m# This doesn't pass the iterator directly to ''.join() because the\u001b[39;00m\n\u001b[0;32m    198\u001b[0m \u001b[38;5;66;03m# exceptions aren't as detailed.  The list call should be roughly\u001b[39;00m\n\u001b[0;32m    199\u001b[0m \u001b[38;5;66;03m# equivalent to the PySequence_Fast that ''.join() would do.\u001b[39;00m\n\u001b[1;32m--> 200\u001b[0m chunks \u001b[38;5;241m=\u001b[39m \u001b[38;5;28;43mself\u001b[39;49m\u001b[38;5;241;43m.\u001b[39;49m\u001b[43miterencode\u001b[49m\u001b[43m(\u001b[49m\u001b[43mo\u001b[49m\u001b[43m,\u001b[49m\u001b[43m \u001b[49m\u001b[43m_one_shot\u001b[49m\u001b[38;5;241;43m=\u001b[39;49m\u001b[38;5;28;43;01mTrue\u001b[39;49;00m\u001b[43m)\u001b[49m\n\u001b[0;32m    201\u001b[0m \u001b[38;5;28;01mif\u001b[39;00m \u001b[38;5;129;01mnot\u001b[39;00m \u001b[38;5;28misinstance\u001b[39m(chunks, (\u001b[38;5;28mlist\u001b[39m, \u001b[38;5;28mtuple\u001b[39m)):\n\u001b[0;32m    202\u001b[0m     chunks \u001b[38;5;241m=\u001b[39m \u001b[38;5;28mlist\u001b[39m(chunks)\n",
      "File \u001b[1;32m~\\AppData\\Local\\Programs\\Python\\Python311\\Lib\\json\\encoder.py:258\u001b[0m, in \u001b[0;36mJSONEncoder.iterencode\u001b[1;34m(self, o, _one_shot)\u001b[0m\n\u001b[0;32m    253\u001b[0m \u001b[38;5;28;01melse\u001b[39;00m:\n\u001b[0;32m    254\u001b[0m     _iterencode \u001b[38;5;241m=\u001b[39m _make_iterencode(\n\u001b[0;32m    255\u001b[0m         markers, \u001b[38;5;28mself\u001b[39m\u001b[38;5;241m.\u001b[39mdefault, _encoder, \u001b[38;5;28mself\u001b[39m\u001b[38;5;241m.\u001b[39mindent, floatstr,\n\u001b[0;32m    256\u001b[0m         \u001b[38;5;28mself\u001b[39m\u001b[38;5;241m.\u001b[39mkey_separator, \u001b[38;5;28mself\u001b[39m\u001b[38;5;241m.\u001b[39mitem_separator, \u001b[38;5;28mself\u001b[39m\u001b[38;5;241m.\u001b[39msort_keys,\n\u001b[0;32m    257\u001b[0m         \u001b[38;5;28mself\u001b[39m\u001b[38;5;241m.\u001b[39mskipkeys, _one_shot)\n\u001b[1;32m--> 258\u001b[0m \u001b[38;5;28;01mreturn\u001b[39;00m \u001b[43m_iterencode\u001b[49m\u001b[43m(\u001b[49m\u001b[43mo\u001b[49m\u001b[43m,\u001b[49m\u001b[43m \u001b[49m\u001b[38;5;241;43m0\u001b[39;49m\u001b[43m)\u001b[49m\n",
      "File \u001b[1;32m~\\AppData\\Local\\Programs\\Python\\Python311\\Lib\\json\\encoder.py:180\u001b[0m, in \u001b[0;36mJSONEncoder.default\u001b[1;34m(self, o)\u001b[0m\n\u001b[0;32m    161\u001b[0m \u001b[38;5;28;01mdef\u001b[39;00m \u001b[38;5;21mdefault\u001b[39m(\u001b[38;5;28mself\u001b[39m, o):\n\u001b[0;32m    162\u001b[0m \u001b[38;5;250m    \u001b[39m\u001b[38;5;124;03m\"\"\"Implement this method in a subclass such that it returns\u001b[39;00m\n\u001b[0;32m    163\u001b[0m \u001b[38;5;124;03m    a serializable object for ``o``, or calls the base implementation\u001b[39;00m\n\u001b[0;32m    164\u001b[0m \u001b[38;5;124;03m    (to raise a ``TypeError``).\u001b[39;00m\n\u001b[1;32m   (...)\u001b[0m\n\u001b[0;32m    178\u001b[0m \n\u001b[0;32m    179\u001b[0m \u001b[38;5;124;03m    \"\"\"\u001b[39;00m\n\u001b[1;32m--> 180\u001b[0m     \u001b[38;5;28;01mraise\u001b[39;00m \u001b[38;5;167;01mTypeError\u001b[39;00m(\u001b[38;5;124mf\u001b[39m\u001b[38;5;124m'\u001b[39m\u001b[38;5;124mObject of type \u001b[39m\u001b[38;5;132;01m{\u001b[39;00mo\u001b[38;5;241m.\u001b[39m\u001b[38;5;18m__class__\u001b[39m\u001b[38;5;241m.\u001b[39m\u001b[38;5;18m__name__\u001b[39m\u001b[38;5;132;01m}\u001b[39;00m\u001b[38;5;124m \u001b[39m\u001b[38;5;124m'\u001b[39m\n\u001b[0;32m    181\u001b[0m                     \u001b[38;5;124mf\u001b[39m\u001b[38;5;124m'\u001b[39m\u001b[38;5;124mis not JSON serializable\u001b[39m\u001b[38;5;124m'\u001b[39m)\n",
      "\u001b[1;31mTypeError\u001b[0m: Object of type type is not JSON serializable"
     ]
    }
   ],
   "source": [
    "json.dumps(Delivery)"
   ]
  },
  {
   "cell_type": "code",
   "execution_count": 19,
   "id": "09cfa9b4-cb95-4209-b1e0-0cc211d4a515",
   "metadata": {},
   "outputs": [
    {
     "name": "stdout",
     "output_type": "stream",
     "text": [
      "{\"id\": 1, \"sender\": \"John\", \"recipient\": \"Alice\", \"items\": [\"package1\", \"package2\"]}\n",
      "{\"id\": 2, \"sender\": \"Bob\", \"recipient\": \"Eve\", \"items\": [\"package3\"]}\n"
     ]
    }
   ],
   "source": [
    "import json\n",
    "\n",
    "class Delivery:\n",
    "    def __init__(self, id, sender, recipient, items):\n",
    "        self.id = id\n",
    "        self.sender = sender\n",
    "        self.recipient = recipient\n",
    "        self.items = items\n",
    "\n",
    "    def to_json(self):\n",
    "        return {\n",
    "            \"id\": self.id,\n",
    "            \"sender\": self.sender,\n",
    "            \"recipient\": self.recipient,\n",
    "            \"items\": self.items\n",
    "        }\n",
    "\n",
    "# Create instances of Delivery\n",
    "delivery1 = Delivery(1, \"John\", \"Alice\", [\"package1\", \"package2\"])\n",
    "delivery2 = Delivery(2, \"Bob\", \"Eve\", [\"package3\"])\n",
    "\n",
    "# Serialize to JSON\n",
    "delivery1_json = json.dumps(delivery1.to_json())\n",
    "delivery2_json = json.dumps(delivery2.to_json())\n",
    "\n",
    "print(delivery1_json)\n",
    "print(delivery2_json)\n"
   ]
  },
  {
   "cell_type": "code",
   "execution_count": 24,
   "id": "6c26dae9-8e5d-42f6-9e9a-0d265b19dace",
   "metadata": {},
   "outputs": [
    {
     "data": {
      "text/plain": [
       "'{\"id\": 1, \"sender\": \"John\", \"recipient\": \"Alice\", \"items\": [\"package1\", \"package2\"]}'"
      ]
     },
     "execution_count": 24,
     "metadata": {},
     "output_type": "execute_result"
    }
   ],
   "source": [
    "json.dumps(delivery1.to_json())"
   ]
  },
  {
   "cell_type": "code",
   "execution_count": null,
   "id": "c610bdf3-c212-48ed-9208-0c3fde8f0a5a",
   "metadata": {},
   "outputs": [],
   "source": []
  }
 ],
 "metadata": {
  "kernelspec": {
   "display_name": "Python 3 (ipykernel)",
   "language": "python",
   "name": "python3"
  },
  "language_info": {
   "codemirror_mode": {
    "name": "ipython",
    "version": 3
   },
   "file_extension": ".py",
   "mimetype": "text/x-python",
   "name": "python",
   "nbconvert_exporter": "python",
   "pygments_lexer": "ipython3",
   "version": "3.11.5"
  }
 },
 "nbformat": 4,
 "nbformat_minor": 5
}
