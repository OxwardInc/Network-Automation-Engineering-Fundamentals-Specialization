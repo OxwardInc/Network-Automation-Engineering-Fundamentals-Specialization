{
 "cells": [
  {
   "cell_type": "code",
   "execution_count": 1,
   "id": "741da6e2-e10d-41e2-8142-fbc9ce27294d",
   "metadata": {},
   "outputs": [],
   "source": [
    "import requests"
   ]
  },
  {
   "cell_type": "code",
   "execution_count": 3,
   "id": "016c9f1a-ed9b-4d35-a22d-21d0cc9764c3",
   "metadata": {},
   "outputs": [],
   "source": [
    "URL = \"https://csr1kv1/restconf/data/Cisco-IOS-XE-native:native/interface\"\n",
    "AUTH = (\"cisco\", \"cisco\")\n",
    "HEADERS = {\"Accept\": \"application/yang-data+json\"}"
   ]
  },
  {
   "cell_type": "code",
   "execution_count": null,
   "id": "af8aca65-8489-4459-a46a-429b0f65cac3",
   "metadata": {},
   "outputs": [],
   "source": [
    "response = requests.get(url = URL, auth = AUTH, headers = "
   ]
  }
 ],
 "metadata": {
  "kernelspec": {
   "display_name": "Python 3 (ipykernel)",
   "language": "python",
   "name": "python3"
  },
  "language_info": {
   "codemirror_mode": {
    "name": "ipython",
    "version": 3
   },
   "file_extension": ".py",
   "mimetype": "text/x-python",
   "name": "python",
   "nbconvert_exporter": "python",
   "pygments_lexer": "ipython3",
   "version": "3.11.5"
  }
 },
 "nbformat": 4,
 "nbformat_minor": 5
}
