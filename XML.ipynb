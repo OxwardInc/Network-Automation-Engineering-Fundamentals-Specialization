{
 "cells": [
  {
   "cell_type": "code",
   "execution_count": 1,
   "id": "ba8ca6cd-d282-42e5-9577-15dbaf809f1b",
   "metadata": {},
   "outputs": [
    {
     "ename": "SyntaxError",
     "evalue": "invalid syntax (3916333673.py, line 1)",
     "output_type": "error",
     "traceback": [
      "\u001b[1;36m  Cell \u001b[1;32mIn[1], line 1\u001b[1;36m\u001b[0m\n\u001b[1;33m    <?xml version=\"1.0\" encoding=\"UTF-8\"?>\u001b[0m\n\u001b[1;37m    ^\u001b[0m\n\u001b[1;31mSyntaxError\u001b[0m\u001b[1;31m:\u001b[0m invalid syntax\n"
     ]
    }
   ],
   "source": [
    "<?xml version=\"1.0\" encoding=\"UTF-8\"?>\n",
    "<!-- Inventory XML Data -->\n",
    "<inventory>\n",
    "    <device name=\"csr1kv1\"> \n",
    "        <osversion>16.09</osversion> \n",
    "        <uptime>2 days</uptime> \n",
    "        <vendor>cisco</vendor> \n",
    "        <serial>XB968761</serial> \n",
    "        <snmp name=\"public\" permission=\"ro\"/> \n",
    "        <snmp name=\"private\" permission=\"rw\"/> \n",
    "    </device> \n",
    "</inventory>\n"
   ]
  },
  {
   "cell_type": "code",
   "execution_count": null,
   "id": "b58792db-fa5e-4967-a613-3a6a4a54bc13",
   "metadata": {},
   "outputs": [],
   "source": []
  }
 ],
 "metadata": {
  "kernelspec": {
   "display_name": "Python 3 (ipykernel)",
   "language": "python",
   "name": "python3"
  },
  "language_info": {
   "codemirror_mode": {
    "name": "ipython",
    "version": 3
   },
   "file_extension": ".py",
   "mimetype": "text/x-python",
   "name": "python",
   "nbconvert_exporter": "python",
   "pygments_lexer": "ipython3",
   "version": "3.11.5"
  }
 },
 "nbformat": 4,
 "nbformat_minor": 5
}
